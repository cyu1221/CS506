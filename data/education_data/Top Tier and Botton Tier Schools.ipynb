{
 "cells": [
  {
   "cell_type": "code",
   "execution_count": 15,
   "metadata": {
    "collapsed": true
   },
   "outputs": [],
   "source": [
    "import pandas as pd\n",
    "from fuzzywuzzy import fuzz\n",
    "from fuzzywuzzy import process\n",
    "rankings=pd.read_csv(\"Rankings.csv\",encoding = \"ISO-8859-1\")\n",
    "hd2016=pd.read_csv(\"hd2016.csv\",encoding = \"ISO-8859-1\")\n",
    "rankings = rankings[[\"Name\",\"Rank\"]]\n",
    "toptier=rankings[:101]\n",
    "hd2016=hd2016[[\"UNITID\",\"INSTNM\"]]"
   ]
  },
  {
   "cell_type": "markdown",
   "metadata": {},
   "source": [
    "listh=pd.merge(toptier, hd2016, left_on=\"Name\", right_on=\"INSTNM\")\n",
    "\n",
    "#merge doesnyt work well because some college names are sightly different between 2 files.\n",
    "\n",
    "listh=pd.merge(toptier, hd2016, left_on=\"Name\", right_on=\"INSTNM\")\n",
    "print(len(listh))\n",
    "print(listh)"
   ]
  },
  {
   "cell_type": "markdown",
   "metadata": {},
   "source": [
    "list2=[]\n",
    "for index,row in toptier.iterrows():\n",
    "    name1=row['Name']\n",
    "    for index1,row1 in hd2016.iterrows():\n",
    "        name2=row1['INSTNM']\n",
    "        similiar=fuzz.ratio(name1, name2)\n",
    "        if similiar>90:\n",
    "            line=[row['Name'],row['Rank'],row1['INSTNM'],row1['UNITID']]\n",
    "            #print(line)\n",
    "            list2.append(line)\n",
    "print(len(list2))\n",
    "#print(list2)\n",
    "list2=[]\n",
    "for index,row in toptier.iterrows():\n",
    "    name1=row['Name']\n",
    "    for index1,row1 in hd2016.iterrows():\n",
    "        name2=row1['INSTNM']\n",
    "        similiar=fuzz.ratio(name1, name2)\n",
    "        if similiar>95:\n",
    "            line=[row['Name'],row['Rank'],row1['INSTNM'],row1['UNITID']]\n",
    "            print(line)\n",
    "            list2.append(line)\n",
    "print(len(list2))\n",
    "print(list2)\n",
    "toptier1=pd.DataFrame(data = list2 , columns=['name','Rank','h','UNITID'])\n",
    "toptier1 = toptier1.drop('h', 1)\n",
    "toptier1.to_csv(\"toptier1.csv\", sep=',',encoding='utf-8')"
   ]
  },
  {
   "cell_type": "code",
   "execution_count": null,
   "metadata": {},
   "outputs": [
    {
     "name": "stderr",
     "output_type": "stream",
     "text": [
      "/Users/charleneyu1221/anaconda/lib/python3.6/site-packages/fuzzywuzzy/fuzz.py:35: UserWarning: Using slow pure-python SequenceMatcher. Install python-Levenshtein to remove this warning\n",
      "  warnings.warn('Using slow pure-python SequenceMatcher. Install python-Levenshtein to remove this warning')\n"
     ]
    }
   ],
   "source": [
    "import pandas as pd\n",
    "from fuzzywuzzy import fuzz\n",
    "from fuzzywuzzy import process\n",
    "nur=pd.read_csv(\"national_universities_rankings.csv\",encoding = \"ISO-8859-1\")\n",
    "hd2016=pd.read_csv(\"hd2016.csv\",encoding = \"ISO-8859-1\")\n",
    "nur=nur[[\"name\",\"rank\"]]\n",
    "l=[]\n",
    "for index,row in nur.iterrows():\n",
    "    name1=row['name']\n",
    "    for index1,row1 in hd2016.iterrows():\n",
    "        name2=row1['INSTNM']\n",
    "        similiar=fuzz.ratio(name1, name2)\n",
    "        if similiar>95:\n",
    "            line=[row['name'],row['rank'],row1['INSTNM'],row1['UNITID']]\n",
    "\n",
    "            l.append(line)\n",
    "print(len(l))\n",
    "\n"
   ]
  },
  {
   "cell_type": "code",
   "execution_count": 143,
   "metadata": {
    "collapsed": true
   },
   "outputs": [],
   "source": [
    "ranked_schools=pd.DataFrame(data = l , columns=['name','Rank','dup','UNITID'])\n",
    "ranked_schools = ranked_schools.drop('dup', 1)\n",
    "ranked_schools.to_csv(\"ranked_schools.csv\", sep=',',encoding='utf-8')"
   ]
  },
  {
   "cell_type": "code",
   "execution_count": 130,
   "metadata": {},
   "outputs": [
    {
     "name": "stdout",
     "output_type": "stream",
     "text": [
      "[<tbody id=\"list-table-body\">\n",
      "</tbody>, <tbody class=\"list-item-template\">\n",
      "<tr class=\"data\">\n",
      "<td class=\"image\"><a href=\"[LINK]\"><img alt=\"\" data-src=\"//i.forbesimg.com/media/lists/[IMAGE_TYPE]/[IMAGE_URI]_100x100.jpg\"/></a></td>\n",
      "<td class=\"rank\">[RANK]</td>\n",
      "<td class=\"name\"><a href=\"[LINK]\">[NAME]</a></td>\n",
      "<td>[STATE]</td>\n",
      "<td>[COST]</td>\n",
      "<td>[TYPE]</td>\n",
      "<td>[FINANCIAL_AID]</td>\n",
      "</tr>\n",
      "</tbody>]\n"
     ]
    }
   ],
   "source": [
    "from bs4 import BeautifulSoup\n",
    "import requests\n",
    "import urllib\n",
    "r = requests.get('https://www.forbes.com/top-colleges/list/14/#tab:rank')\n",
    "soup = BeautifulSoup(r.content)\n",
    "#soup = BeautifulSoup(open('https://www.forbes.com/top-colleges/list/14/#tab:rank'), \"html.parser\")\n",
    "#soup.prettify()[28700:30500]\n",
    "letters = soup.find_all(\"tbody\", class_= \"list-table-body\")\n",
    "letters = soup.find_all(\"tbody\")\n",
    "print(letters)"
   ]
  },
  {
   "cell_type": "code",
   "execution_count": null,
   "metadata": {
    "collapsed": true
   },
   "outputs": [],
   "source": []
  }
 ],
 "metadata": {
  "kernelspec": {
   "display_name": "Python 3",
   "language": "python",
   "name": "python3"
  },
  "language_info": {
   "codemirror_mode": {
    "name": "ipython",
    "version": 3
   },
   "file_extension": ".py",
   "mimetype": "text/x-python",
   "name": "python",
   "nbconvert_exporter": "python",
   "pygments_lexer": "ipython3",
   "version": "3.6.1"
  }
 },
 "nbformat": 4,
 "nbformat_minor": 2
}
